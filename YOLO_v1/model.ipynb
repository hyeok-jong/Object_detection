{
 "cells": [
  {
   "cell_type": "code",
   "execution_count": 127,
   "metadata": {},
   "outputs": [],
   "source": [
    "import torch\n",
    "import torch.nn as nn\n"
   ]
  },
  {
   "cell_type": "markdown",
   "metadata": {},
   "source": [
    "![](/home/mskang/hyeokjong/object_detection/YOLO_v1/image/1.PNG)"
   ]
  },
  {
   "cell_type": "code",
   "execution_count": 128,
   "metadata": {},
   "outputs": [],
   "source": [
    "architecture_config = [  # kernel_size in_channel out_channel stride padding\n",
    "    (7, 64, 2, 3),\n",
    "    \"M\",\n",
    "    (3, 192, 1, 1),\n",
    "    \"M\",\n",
    "    (1, 128, 1, 0),\n",
    "    (3, 256, 1, 1),\n",
    "    (1, 256, 1, 0),\n",
    "    (3, 512, 1, 1),\n",
    "    \"M\",\n",
    "    [(1, 256, 1, 0), (3, 512, 1, 1), 4],  # 4 is number of times to repeat\n",
    "    (1, 512, 1, 0),\n",
    "    (3, 1024, 1, 1),\n",
    "    \"M\",\n",
    "    [(1, 512, 1, 0), (3, 1024, 1, 1), 2],  # 2 is number of times to repeat\n",
    "    (3, 1024, 1, 1),\n",
    "    (3, 1024, 2, 1),\n",
    "    (3, 1024, 1, 1),\n",
    "    (3, 1024, 1, 1),\n",
    "]"
   ]
  },
  {
   "cell_type": "code",
   "execution_count": 129,
   "metadata": {},
   "outputs": [],
   "source": [
    "class Conv(nn.Module):\n",
    "    def __init__(self, in_c, out_c, k, s, p):\n",
    "        super().__init__()\n",
    "\n",
    "        self.conv = nn.Sequential(\n",
    "            nn.Conv2d(in_channels = in_c, out_channels = out_c, kernel_size = k, stride = s, padding = p, bias = False),\n",
    "            nn.BatchNorm2d( num_features = out_c),\n",
    "            nn.LeakyReLU(0.1)\n",
    "        )\n",
    "\n",
    "        \n",
    "    def forward(self, x):\n",
    "        return self.conv(x)\n",
    "        \n",
    "class Flatten(nn.Module):\n",
    "    def forward(self, input):\n",
    "        return input.view(input.size(0), -1)"
   ]
  },
  {
   "cell_type": "code",
   "execution_count": 130,
   "metadata": {},
   "outputs": [
    {
     "name": "stdout",
     "output_type": "stream",
     "text": [
      "torch.Size([32, 64, 224, 224])\n"
     ]
    }
   ],
   "source": [
    "test = Conv(3,64,3,2,1)\n",
    "x = torch.randn(32,3,448,448)\n",
    "output = test(x)\n",
    "print(output.shape)"
   ]
  },
  {
   "cell_type": "code",
   "execution_count": 131,
   "metadata": {},
   "outputs": [
    {
     "name": "stdout",
     "output_type": "stream",
     "text": [
      "0 (7, 64, 2, 3) <class 'tuple'>\n",
      "1 M <class 'str'>\n",
      "2 (3, 192, 1, 1) <class 'tuple'>\n",
      "3 M <class 'str'>\n",
      "4 (1, 128, 1, 0) <class 'tuple'>\n",
      "5 (3, 256, 1, 1) <class 'tuple'>\n",
      "6 (1, 256, 1, 0) <class 'tuple'>\n",
      "7 (3, 512, 1, 1) <class 'tuple'>\n",
      "8 M <class 'str'>\n",
      "9 [(1, 256, 1, 0), (3, 512, 1, 1), 4] <class 'list'>\n",
      "10 (1, 512, 1, 0) <class 'tuple'>\n",
      "11 (3, 1024, 1, 1) <class 'tuple'>\n",
      "12 M <class 'str'>\n",
      "13 [(1, 512, 1, 0), (3, 1024, 1, 1), 2] <class 'list'>\n",
      "14 (3, 1024, 1, 1) <class 'tuple'>\n",
      "15 (3, 1024, 2, 1) <class 'tuple'>\n",
      "16 (3, 1024, 1, 1) <class 'tuple'>\n",
      "17 (3, 1024, 1, 1) <class 'tuple'>\n"
     ]
    }
   ],
   "source": [
    "for i,j in enumerate(architecture_config):\n",
    "    print(i,j, type(j))"
   ]
  },
  {
   "cell_type": "code",
   "execution_count": 142,
   "metadata": {},
   "outputs": [],
   "source": [
    "class Yolov1(nn.Module):\n",
    "    def __init__(self, config):\n",
    "        super().__init__()\n",
    "        \n",
    "        self.config = config\n",
    "        self.convs = self.make_block(self.config)\n",
    "        self.fc = nn.Sequential(\n",
    "            Flatten(),\n",
    "            nn.Linear(1024*7*7, 496),\n",
    "            nn.Dropout(0.0),\n",
    "            nn.LeakyReLU(0.1),\n",
    "            nn.Linear(496, 7*7*(20+2*5))            \n",
    "        )\n",
    "\n",
    "\n",
    "\n",
    "    def make_block(self, config):\n",
    "        layer = []\n",
    "        in_channel = 3\n",
    "\n",
    "        for i in config:\n",
    "\n",
    "            if type(i) == tuple:\n",
    "                layer += [ Conv ( in_c = in_channel, out_c = i[1], k = i[0], s = i[2], p = i[3] ) ]\n",
    "                in_channel = i[1]\n",
    "            \n",
    "            elif type(i) == str:\n",
    "                layer += [ nn.MaxPool2d(kernel_size=(2, 2), stride=(2, 2)) ]\n",
    "\n",
    "            elif type(i) == list:\n",
    "                c1 = i[0]\n",
    "                c2 = i[1]\n",
    "                repeat = i[2]\n",
    "\n",
    "                for i in range(repeat):\n",
    "                    layer += [ Conv ( in_c = in_channel, out_c = c1[1], k = c1[0], s = c1[2], p = c1[3] ) ]\n",
    "                    in_channel = c1[1]\n",
    "                    layer += [ Conv ( in_c = in_channel, out_c = c2[1], k = c2[0], s = c2[2], p = c2[3] ) ]\n",
    "                    in_channel = c2[1]\n",
    "        \n",
    "        return nn.Sequential( *layer )\n",
    "\n",
    "\n",
    "    def forward(self, x):\n",
    "        x = self.convs(x)\n",
    "        x = self.fc(x)\n",
    "        return x\n",
    "\n"
   ]
  },
  {
   "cell_type": "code",
   "execution_count": 147,
   "metadata": {},
   "outputs": [
    {
     "name": "stdout",
     "output_type": "stream",
     "text": [
      "torch.Size([2, 1470])\n"
     ]
    }
   ],
   "source": [
    "model = Yolov1(architecture_config)\n",
    "model\n",
    "\n",
    "def test():\n",
    "    model = Yolov1(architecture_config)\n",
    "    x = torch.empty(2,3,448,448)\n",
    "    print(model(x).shape)\n",
    "\n",
    "test()\n"
   ]
  },
  {
   "cell_type": "code",
   "execution_count": 149,
   "metadata": {},
   "outputs": [],
   "source": [
    "'''\n",
    "import torch.onnx\n",
    "params = model.state_dict()\n",
    "dummy_data = torch.empty(1, 3, 448, 448, dtype = torch.float32)\n",
    "torch.onnx.export(model, dummy_data, \"/home/mskang/hyeokjong/object_detection/YOLO_v1/output.onnx\")\n",
    "'''"
   ]
  },
  {
   "cell_type": "code",
   "execution_count": null,
   "metadata": {},
   "outputs": [],
   "source": []
  },
  {
   "cell_type": "code",
   "execution_count": null,
   "metadata": {},
   "outputs": [],
   "source": []
  },
  {
   "cell_type": "code",
   "execution_count": null,
   "metadata": {},
   "outputs": [],
   "source": []
  },
  {
   "cell_type": "code",
   "execution_count": null,
   "metadata": {},
   "outputs": [],
   "source": []
  },
  {
   "cell_type": "code",
   "execution_count": null,
   "metadata": {},
   "outputs": [],
   "source": []
  },
  {
   "cell_type": "code",
   "execution_count": null,
   "metadata": {},
   "outputs": [],
   "source": []
  },
  {
   "cell_type": "code",
   "execution_count": null,
   "metadata": {},
   "outputs": [],
   "source": []
  }
 ],
 "metadata": {
  "interpreter": {
   "hash": "1c3c7152b532fd28c217869295ba0fbb2b6716303accc13f15426c445bfbdae4"
  },
  "kernelspec": {
   "display_name": "Python 3.7.9 ('hyeokjong2')",
   "language": "python",
   "name": "python3"
  },
  "language_info": {
   "codemirror_mode": {
    "name": "ipython",
    "version": 3
   },
   "file_extension": ".py",
   "mimetype": "text/x-python",
   "name": "python",
   "nbconvert_exporter": "python",
   "pygments_lexer": "ipython3",
   "version": "3.7.9"
  },
  "orig_nbformat": 4
 },
 "nbformat": 4,
 "nbformat_minor": 2
}
