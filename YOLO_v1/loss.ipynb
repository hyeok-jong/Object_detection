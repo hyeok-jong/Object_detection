{
 "cells": [
  {
   "cell_type": "code",
   "execution_count": 2,
   "metadata": {},
   "outputs": [
    {
     "name": "stdout",
     "output_type": "stream",
     "text": [
      "importing Jupyter notebook from utils.ipynb\n"
     ]
    }
   ],
   "source": [
    "import torch\n",
    "import torch.nn as nn\n",
    "import os\n",
    "import import_ipynb\n",
    "from utils import intersection_over_union"
   ]
  },
  {
   "cell_type": "code",
   "execution_count": 14,
   "metadata": {},
   "outputs": [
    {
     "name": "stdout",
     "output_type": "stream",
     "text": [
      "torch.Size([32, 7, 7, 2])\n"
     ]
    }
   ],
   "source": [
    "t = torch.empty(32,7,7,25)[...,2:4]\n",
    "print(t.shape)"
   ]
  },
  {
   "cell_type": "code",
   "execution_count": 15,
   "metadata": {},
   "outputs": [],
   "source": [
    "class YoloLoss(nn.Module):\n",
    "    \"\"\"\n",
    "    Calculate the loss for yolo (v1) model\n",
    "    \"\"\"\n",
    "\n",
    "    def __init__(self, S = 7, B = 2, C = 20):\n",
    "        super().__init__()\n",
    "        self.mse = nn.MSELoss(reduction=\"sum\")\n",
    "\n",
    "        self.S = S\n",
    "        self.B = B\n",
    "        self.C = C\n",
    "\n",
    "        self.lambda_noobj = 0.5    # weight\n",
    "        self.lambda_coord = 5      # weight\n",
    "\n",
    "    def forward(self, output, target):\n",
    "                                                                                     # output tensor shape : ( batch, 1470(=7*7*30) )\n",
    "        output = output.reshape(-1, self.S, self.S, self.C + self.B * 5)             # ( batch, 7, 7, 30 )\n",
    "\n",
    "        # Calculate IoU for the two predicted bounding boxes with target bbox\n",
    "        # In output tensor ( batch, 7, 7, 30 ) there are two bound boxes coordinate information and corresponding confidence \n",
    "        # So, for one grid cell ( one of the 7*7 ) it is made of  class probability(20) and two bound boxes( for one bnd there exist (x,y,w,h,c) ) \n",
    "        # To calculate Loss we need to express Indicator functions\n",
    "        # And for first Indicator function IoU ihave to calculated\n",
    "        # Thus below is calculating IoU\n",
    "        # Think that IoU is calculated by bnd coordinates\n",
    "        # Target shape is ( batch, 7, 7, 25 )\n",
    "\n",
    "\n",
    "\n",
    "        # Target has only one bound box\n",
    "        # Output has two bound boxes\n",
    "        # output[..., 21:25] , output[..., 26:30] and target[..., 21:25] means coordinates of bnds\n",
    "\n",
    "        iou_b1 = intersection_over_union(output[..., 21:25], target[..., 21:25])     # ( batch, 7, 7, 5 )\n",
    "        iou_b2 = intersection_over_union(output[..., 26:30], target[..., 21:25])     # ( batch, 7, 7, 5 )\n",
    "        iou_b1_u = iou_b1.unsqueeze(0)                                               # ( 1, batch, 7, 7, 5 )\n",
    "        iou_b2_u = iou_b2.unsqueeze(0)                                               # ( 1, batch, 7, 7, 5 )\n",
    "        ious = torch.cat([ iou_b1_u, iou_b2_u], dim=0)                               # ( 2, batch, 7, 7, 5 )\n",
    "\n",
    "\n",
    "        # Take the box with highest IoU out of the two prediction\n",
    "        # Note that bestbox will be indices of 0, 1 for which bbox was best\n",
    "        iou_maxes, bestbox = torch.max(ious, dim=0)                # maximum and argmax and shapes are    ( 2, batch, 7, 1, 7, 30 ) and (  )\n",
    "        exists_box = target[..., 20].unsqueeze(3)                  # in paper this is Iobj_i              ( batch, 7, 7, 1 ) \n",
    "\n",
    "        # ======================== #\n",
    "        #   FOR BOX COORDINATES    #\n",
    "        # ======================== #\n",
    "\n",
    "        # Set boxes with no object in them to 0. We only take out one of the two \n",
    "        # predictions, which is the one with highest Iou calculated previously.\n",
    "        box_predictions = exists_box * ( ( bestbox * output[..., 26:30] + (1 - bestbox) * output[..., 21:25] ) )    \n",
    "        # It implys Indicator function\n",
    "        # 그니까 exist_box는 물체가 있고 없고 이고 거기게 bestbox로 best IoI만 계산 되게끔 설정하므로 두 논리가 합쳐져 Indicator function을 구현\n",
    "\n",
    "        box_targets = exists_box * target[..., 21:25]\n",
    "\n",
    "         \n",
    "\n",
    "        # Take sqrt of width, height of boxes to ensure that\n",
    "        # 2:4 만 바꿈.\n",
    "        box_predictions[..., 2:4] = torch.sign(box_predictions[..., 2:4]) * torch.sqrt( torch.abs(box_predictions[..., 2:4] + 1e-6)  )\n",
    "        box_targets[..., 2:4] = torch.sqrt(box_targets[..., 2:4])\n",
    "\n",
    "        box_loss = self.mse(\n",
    "            torch.flatten(box_predictions, end_dim=-2),\n",
    "            torch.flatten(box_targets, end_dim=-2),\n",
    "        )\n",
    "\n",
    "        # ==================== #\n",
    "        #   FOR OBJECT LOSS    #\n",
    "        # ==================== #\n",
    "\n",
    "        # pred_box is the confidence score for the bbox with highest IoU\n",
    "        pred_box = (\n",
    "            bestbox * output[..., 25:26] + (1 - bestbox) * output[..., 20:21]\n",
    "        )\n",
    "\n",
    "        object_loss = self.mse(\n",
    "            torch.flatten(exists_box * pred_box),\n",
    "            torch.flatten(exists_box * target[..., 20:21]),\n",
    "        )\n",
    "\n",
    "        # ======================= #\n",
    "        #   FOR NO OBJECT LOSS    #\n",
    "        # ======================= #\n",
    "\n",
    "        #max_no_obj = torch.max(predictions[..., 20:21], predictions[..., 25:26])\n",
    "        #no_object_loss = self.mse(\n",
    "        #    torch.flatten((1 - exists_box) * max_no_obj, start_dim=1),\n",
    "        #    torch.flatten((1 - exists_box) * target[..., 20:21], start_dim=1),\n",
    "        #)\n",
    "\n",
    "        no_object_loss = self.mse(\n",
    "            torch.flatten((1 - exists_box) * output[..., 20:21], start_dim=1),\n",
    "            torch.flatten((1 - exists_box) * target[..., 20:21], start_dim=1),\n",
    "        )\n",
    "\n",
    "        no_object_loss += self.mse(\n",
    "            torch.flatten((1 - exists_box) * output[..., 25:26], start_dim=1),\n",
    "            torch.flatten((1 - exists_box) * target[..., 20:21], start_dim=1)\n",
    "        )\n",
    "\n",
    "        # ================== #\n",
    "        #   FOR CLASS LOSS   #\n",
    "        # ================== #\n",
    "\n",
    "        class_loss = self.mse(\n",
    "            torch.flatten(exists_box * output[..., :20], end_dim=-2,),\n",
    "            torch.flatten(exists_box * target[..., :20], end_dim=-2,),\n",
    "        )\n",
    "\n",
    "        loss = (\n",
    "            self.lambda_coord * box_loss  # first two rows in paper\n",
    "            + object_loss  # third row in paper\n",
    "            + self.lambda_noobj * no_object_loss  # forth row\n",
    "            + class_loss  # fifth row\n",
    "        )\n",
    "\n",
    "        return loss"
   ]
  },
  {
   "cell_type": "code",
   "execution_count": null,
   "metadata": {},
   "outputs": [],
   "source": []
  },
  {
   "cell_type": "code",
   "execution_count": null,
   "metadata": {},
   "outputs": [],
   "source": []
  },
  {
   "cell_type": "code",
   "execution_count": null,
   "metadata": {},
   "outputs": [],
   "source": []
  },
  {
   "cell_type": "code",
   "execution_count": null,
   "metadata": {},
   "outputs": [],
   "source": []
  }
 ],
 "metadata": {
  "interpreter": {
   "hash": "31f2aee4e71d21fbe5cf8b01ff0e069b9275f58929596ceb00d14d90e3e16cd6"
  },
  "kernelspec": {
   "display_name": "Python 3.6.9 64-bit",
   "language": "python",
   "name": "python3"
  },
  "language_info": {
   "codemirror_mode": {
    "name": "ipython",
    "version": 3
   },
   "file_extension": ".py",
   "mimetype": "text/x-python",
   "name": "python",
   "nbconvert_exporter": "python",
   "pygments_lexer": "ipython3",
   "version": "3.7.9"
  },
  "orig_nbformat": 4
 },
 "nbformat": 4,
 "nbformat_minor": 2
}
